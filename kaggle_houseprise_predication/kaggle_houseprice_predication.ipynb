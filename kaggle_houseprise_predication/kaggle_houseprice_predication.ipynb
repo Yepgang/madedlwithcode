{
  "nbformat": 4,
  "nbformat_minor": 0,
  "metadata": {
    "colab": {
      "name": "kaggle_houseprice_predication.ipynb",
      "provenance": [],
      "collapsed_sections": []
    },
    "kernelspec": {
      "name": "python3",
      "display_name": "Python 3"
    },
    "language_info": {
      "name": "python"
    },
    "accelerator": "GPU"
  },
  "cells": [
    {
      "cell_type": "markdown",
      "metadata": {
        "id": "jiOA0jWiTard"
      },
      "source": [
        "# A gerneral pipeline"
      ]
    },
    {
      "cell_type": "markdown",
      "metadata": {
        "id": "UO5np7eKTn-B"
      },
      "source": [
        "## load data\n"
      ]
    },
    {
      "cell_type": "code",
      "metadata": {
        "id": "EH5vvJ98SGY8"
      },
      "source": [
        "import pandas as pd\n",
        "import torch\n",
        "import numpy as np\n",
        "import matplotlib.pyplot as plt"
      ],
      "execution_count": 3,
      "outputs": []
    },
    {
      "cell_type": "code",
      "metadata": {
        "id": "wtMK1LTXTRT-"
      },
      "source": [
        "import hashlib\n",
        "import requests\n",
        "import os\n",
        "\n",
        "#save\n",
        "DATA_HUB = dict()\n",
        "DATA_URL = 'https://www.kaggle.com/c/california-house-prices/data/'\n",
        "\n",
        "def download(name, cache_dir=os.path.join('..', 'data')): \n",
        "    \"\"\"下载一个DATA_HUB中的文件，返回本地文件名。\"\"\"\n",
        "    assert name in DATA_HUB, f\"{name} 不存在于 {DATA_HUB}.\"\n",
        "    url = DATA_HUB[name]\n",
        "    os.makedirs(cache_dir, exist_ok=True)\n",
        "    fname = os.path.join(cache_dir, url.split('/')[-1])\n",
        "    if os.path.exists(fname):\n",
        "        print(f'file already exist!')\n",
        "        return fname\n",
        "    print(f'正在从{url}下载{fname}...')\n",
        "    r = requests.get(url, stream=True, verify=True)\n",
        "    with open(fname, 'wb') as f:\n",
        "        f.write(r.content)\n",
        "    return fname\n",
        "\n",
        "def download_extract(name, folder=None):  \n",
        "    \"\"\"下载并解压zip/tar文件。\"\"\"\n",
        "    fname = download(name)\n",
        "    base_dir = os.path.dirname(fname)\n",
        "    data_dir, ext = os.path.splitext(fname)\n",
        "    if ext == '.zip':\n",
        "        fp = zipfile.ZipFile(fname, 'r')\n",
        "    elif ext in ('.tar', '.gz'):\n",
        "        fp = tarfile.open(fname, 'r')\n",
        "    else:\n",
        "        assert False, '只有zip/tar文件可以被解压缩。'\n",
        "    fp.extractall(base_dir)\n",
        "    return os.path.join(base_dir, folder) if folder else data_dir\n",
        "\n",
        "def download_all():  \n",
        "    \"\"\"下载DATA_HUB中的所有文件。\"\"\"\n",
        "    for name in DATA_HUB:\n",
        "        download(name)"
      ],
      "execution_count": 4,
      "outputs": []
    },
    {
      "cell_type": "code",
      "metadata": {
        "id": "OlI1_mnYYL1V"
      },
      "source": [
        "DATA_HUB['kaggle_house_train'] = DATA_URL + 'train.csv'\n",
        "DATA_HUB['kaggle_house_test'] = DATA_URL + 'test.csv'\n",
        "\n",
        "train_data = pd.read_csv(\"../data/train.csv.zip\",compression='zip')\n",
        "test_data = pd.read_csv(\"../data/test.csv.zip\",compression='zip')"
      ],
      "execution_count": 6,
      "outputs": []
    },
    {
      "cell_type": "code",
      "metadata": {
        "colab": {
          "base_uri": "https://localhost:8080/"
        },
        "id": "xv1vNeBiY8jR",
        "outputId": "756f9f19-c32c-462a-afd9-810574156668"
      },
      "source": [
        "print(f'{train_data.shape},{test_data.shape}')\n",
        "print(f'{train_data.columns}\\n{test_data.columns}')\n",
        "print([i for i in train_data.columns if i not in test_data.columns])\n",
        "print(train_data.dtypes)\n",
        "print(train_data.iloc[1,:])"
      ],
      "execution_count": 7,
      "outputs": [
        {
          "output_type": "stream",
          "name": "stdout",
          "text": [
            "(47439, 41),(31626, 40)\n",
            "Index(['Id', 'Address', 'Sold Price', 'Summary', 'Type', 'Year built',\n",
            "       'Heating', 'Cooling', 'Parking', 'Lot', 'Bedrooms', 'Bathrooms',\n",
            "       'Full bathrooms', 'Total interior livable area', 'Total spaces',\n",
            "       'Garage spaces', 'Region', 'Elementary School',\n",
            "       'Elementary School Score', 'Elementary School Distance',\n",
            "       'Middle School', 'Middle School Score', 'Middle School Distance',\n",
            "       'High School', 'High School Score', 'High School Distance', 'Flooring',\n",
            "       'Heating features', 'Cooling features', 'Appliances included',\n",
            "       'Laundry features', 'Parking features', 'Tax assessed value',\n",
            "       'Annual tax amount', 'Listed On', 'Listed Price', 'Last Sold On',\n",
            "       'Last Sold Price', 'City', 'Zip', 'State'],\n",
            "      dtype='object')\n",
            "Index(['Id', 'Address', 'Summary', 'Type', 'Year built', 'Heating', 'Cooling',\n",
            "       'Parking', 'Lot', 'Bedrooms', 'Bathrooms', 'Full bathrooms',\n",
            "       'Total interior livable area', 'Total spaces', 'Garage spaces',\n",
            "       'Region', 'Elementary School', 'Elementary School Score',\n",
            "       'Elementary School Distance', 'Middle School', 'Middle School Score',\n",
            "       'Middle School Distance', 'High School', 'High School Score',\n",
            "       'High School Distance', 'Flooring', 'Heating features',\n",
            "       'Cooling features', 'Appliances included', 'Laundry features',\n",
            "       'Parking features', 'Tax assessed value', 'Annual tax amount',\n",
            "       'Listed On', 'Listed Price', 'Last Sold On', 'Last Sold Price', 'City',\n",
            "       'Zip', 'State'],\n",
            "      dtype='object')\n",
            "['Sold Price']\n",
            "Id                               int64\n",
            "Address                         object\n",
            "Sold Price                     float64\n",
            "Summary                         object\n",
            "Type                            object\n",
            "Year built                     float64\n",
            "Heating                         object\n",
            "Cooling                         object\n",
            "Parking                         object\n",
            "Lot                            float64\n",
            "Bedrooms                        object\n",
            "Bathrooms                      float64\n",
            "Full bathrooms                 float64\n",
            "Total interior livable area    float64\n",
            "Total spaces                   float64\n",
            "Garage spaces                  float64\n",
            "Region                          object\n",
            "Elementary School               object\n",
            "Elementary School Score        float64\n",
            "Elementary School Distance     float64\n",
            "Middle School                   object\n",
            "Middle School Score            float64\n",
            "Middle School Distance         float64\n",
            "High School                     object\n",
            "High School Score              float64\n",
            "High School Distance           float64\n",
            "Flooring                        object\n",
            "Heating features                object\n",
            "Cooling features                object\n",
            "Appliances included             object\n",
            "Laundry features                object\n",
            "Parking features                object\n",
            "Tax assessed value             float64\n",
            "Annual tax amount              float64\n",
            "Listed On                       object\n",
            "Listed Price                   float64\n",
            "Last Sold On                    object\n",
            "Last Sold Price                float64\n",
            "City                            object\n",
            "Zip                              int64\n",
            "State                           object\n",
            "dtype: object\n",
            "Id                                                                             1\n",
            "Address                                                           1727 W 67th St\n",
            "Sold Price                                                                505000\n",
            "Summary                        HURRY, HURRY.......Great house 3 bed and 2 bat...\n",
            "Type                                                                SingleFamily\n",
            "Year built                                                                  1926\n",
            "Heating                                                              Combination\n",
            "Cooling                        Wall/Window Unit(s), Evaporative Cooling, See ...\n",
            "Parking                                                 Detached Carport, Garage\n",
            "Lot                                                                         4047\n",
            "Bedrooms                                                                       3\n",
            "Bathrooms                                                                      2\n",
            "Full bathrooms                                                                 2\n",
            "Total interior livable area                                                  872\n",
            "Total spaces                                                                   1\n",
            "Garage spaces                                                                  1\n",
            "Region                                                               Los Angeles\n",
            "Elementary School                               Raymond Avenue Elementary School\n",
            "Elementary School Score                                                        3\n",
            "Elementary School Distance                                                   0.8\n",
            "Middle School                                            John Muir Middle School\n",
            "Middle School Score                                                            2\n",
            "Middle School Distance                                                       1.1\n",
            "High School                    Augustus F. Hawkins High A Critical Design And...\n",
            "High School Score                                                              2\n",
            "High School Distance                                                         1.3\n",
            "Flooring                                                                     NaN\n",
            "Heating features                                                     Combination\n",
            "Cooling features               Wall/Window Unit(s), Evaporative Cooling, See ...\n",
            "Appliances included                                                          NaN\n",
            "Laundry features                                                          Inside\n",
            "Parking features                                        Detached Carport, Garage\n",
            "Tax assessed value                                                        505000\n",
            "Annual tax amount                                                           6253\n",
            "Listed On                                                             2019-10-16\n",
            "Listed Price                                                              525000\n",
            "Last Sold On                                                          2019-08-30\n",
            "Last Sold Price                                                           328000\n",
            "City                                                                 Los Angeles\n",
            "Zip                                                                        90047\n",
            "State                                                                         CA\n",
            "Name: 1, dtype: object\n"
          ]
        }
      ]
    },
    {
      "cell_type": "code",
      "metadata": {
        "colab": {
          "base_uri": "https://localhost:8080/"
        },
        "id": "SLmfn7HDhZu_",
        "outputId": "c685c8a0-572e-46a6-b9c8-c19efa350454"
      },
      "source": [
        "all_features = pd.concat((train_data.iloc[:, 4:-1], test_data.iloc[:, 3:-1]))\n",
        "del all_features[\"Zip\"]\n",
        "all_features.shape"
      ],
      "execution_count": 8,
      "outputs": [
        {
          "output_type": "execute_result",
          "data": {
            "text/plain": [
              "(79065, 35)"
            ]
          },
          "metadata": {},
          "execution_count": 8
        }
      ]
    },
    {
      "cell_type": "code",
      "metadata": {
        "colab": {
          "base_uri": "https://localhost:8080/"
        },
        "id": "z5itBW7EmUO5",
        "outputId": "d8174b80-9d2c-4d44-b8f0-acd08cb11c75"
      },
      "source": [
        "## 标准化数字输入\n",
        "missing_values_count = all_features.isna().sum()\n",
        "print(missing_values_count.sum())\n",
        "missing_values_count_percent = missing_values_count/all_features.shape[0]*100\n",
        "print(missing_values_count_percent)\n",
        "\n",
        "numeric_features = all_features.dtypes[all_features.dtypes != 'object'].index\n",
        "all_features[numeric_features] = all_features[numeric_features].apply(\n",
        "    lambda x: (x - x.mean()) / (x.std()))\n",
        "print(all_features[numeric_features].dtypes)\n"
      ],
      "execution_count": 9,
      "outputs": [
        {
          "output_type": "stream",
          "name": "stdout",
          "text": [
            "389755\n",
            "Type                            0.000000\n",
            "Year built                      2.456207\n",
            "Heating                        14.561437\n",
            "Cooling                        19.109593\n",
            "Parking                         2.119775\n",
            "Lot                            29.076077\n",
            "Bedrooms                        5.815468\n",
            "Bathrooms                       6.842471\n",
            "Full bathrooms                 16.351104\n",
            "Total interior livable area     4.904825\n",
            "Total spaces                    2.108392\n",
            "Garage spaces                   2.108392\n",
            "Region                          0.002530\n",
            "Elementary School              10.741795\n",
            "Elementary School Score        11.047872\n",
            "Elementary School Distance     10.741795\n",
            "Middle School                  35.764245\n",
            "Middle School Score            35.766774\n",
            "Middle School Distance         35.764245\n",
            "High School                     9.073547\n",
            "High School Score               9.845064\n",
            "High School Distance            9.074812\n",
            "Flooring                       27.732878\n",
            "Heating features               15.870486\n",
            "Cooling features               21.037121\n",
            "Appliances included            29.531398\n",
            "Laundry features               25.272877\n",
            "Parking features                8.382976\n",
            "Tax assessed value              7.997217\n",
            "Annual tax amount               9.117814\n",
            "Listed On                       0.000000\n",
            "Listed Price                    0.000000\n",
            "Last Sold On                   37.367988\n",
            "Last Sold Price                37.367988\n",
            "City                            0.000000\n",
            "dtype: float64\n",
            "Year built                     float64\n",
            "Lot                            float64\n",
            "Bathrooms                      float64\n",
            "Full bathrooms                 float64\n",
            "Total interior livable area    float64\n",
            "Total spaces                   float64\n",
            "Garage spaces                  float64\n",
            "Elementary School Score        float64\n",
            "Elementary School Distance     float64\n",
            "Middle School Score            float64\n",
            "Middle School Distance         float64\n",
            "High School Score              float64\n",
            "High School Distance           float64\n",
            "Tax assessed value             float64\n",
            "Annual tax amount              float64\n",
            "Listed Price                   float64\n",
            "Last Sold Price                float64\n",
            "dtype: object\n"
          ]
        }
      ]
    },
    {
      "cell_type": "code",
      "metadata": {
        "colab": {
          "base_uri": "https://localhost:8080/"
        },
        "id": "a0Pvjronngcw",
        "outputId": "03cc0905-304e-49f8-8e62-0134403b4f57"
      },
      "source": [
        "# 首先填充日期\n",
        "print(all_features[\"Last Sold On\"].isna().sum())\n",
        "all_features[\"Last Sold On\"] = all_features[\"Last Sold On\"].fillna(method='bfill', axis=0).fillna(0)\n",
        "print(all_features[\"Last Sold On\"].isna().sum())"
      ],
      "execution_count": 10,
      "outputs": [
        {
          "output_type": "stream",
          "name": "stdout",
          "text": [
            "29545\n",
            "0\n"
          ]
        }
      ]
    },
    {
      "cell_type": "code",
      "metadata": {
        "colab": {
          "base_uri": "https://localhost:8080/"
        },
        "id": "HV4vrDVezMQT",
        "outputId": "e8959c76-4481-4671-977f-bf6593e3b7ca"
      },
      "source": [
        "print(all_features[\"Listed On\"].isna().sum())\n"
      ],
      "execution_count": 11,
      "outputs": [
        {
          "output_type": "stream",
          "name": "stdout",
          "text": [
            "0\n"
          ]
        }
      ]
    },
    {
      "cell_type": "code",
      "metadata": {
        "colab": {
          "base_uri": "https://localhost:8080/"
        },
        "id": "2efNNtby9fCu",
        "outputId": "52d3ded4-c30b-4b69-a295-d766cf5b8a9f"
      },
      "source": [
        "all_features['Listed On'] = pd.to_datetime(all_features['Listed On'], format=\"%Y-%m-%d\")\n",
        "all_features['Last Sold On'] = pd.to_datetime(all_features['Last Sold On'], format=\"%Y-%m-%d\")\n",
        "print(all_features['Listed On'].head())\n",
        "print(all_features['Last Sold On'].head())"
      ],
      "execution_count": 12,
      "outputs": [
        {
          "output_type": "stream",
          "name": "stdout",
          "text": [
            "0   2019-10-24\n",
            "1   2019-10-16\n",
            "2   2019-08-25\n",
            "3   2019-10-24\n",
            "4   2019-06-07\n",
            "Name: Listed On, dtype: datetime64[ns]\n",
            "0   2019-08-30\n",
            "1   2019-08-30\n",
            "2   2016-08-30\n",
            "3   2016-08-30\n",
            "4   2016-06-27\n",
            "Name: Last Sold On, dtype: datetime64[ns]\n"
          ]
        }
      ]
    },
    {
      "cell_type": "code",
      "metadata": {
        "colab": {
          "base_uri": "https://localhost:8080/"
        },
        "id": "6vgyOAWq2vbW",
        "outputId": "3548ec62-7092-4f04-88fc-4c0fe6c96741"
      },
      "source": [
        "# 将所有na置0\n",
        "all_features = all_features.fillna(0)\n",
        "print(all_features[\"Last Sold On\"].head())\n",
        "print(all_features.isna().sum().sum())"
      ],
      "execution_count": 13,
      "outputs": [
        {
          "output_type": "stream",
          "name": "stdout",
          "text": [
            "0   2019-08-30\n",
            "1   2019-08-30\n",
            "2   2016-08-30\n",
            "3   2016-08-30\n",
            "4   2016-06-27\n",
            "Name: Last Sold On, dtype: datetime64[ns]\n",
            "0\n"
          ]
        }
      ]
    },
    {
      "cell_type": "code",
      "metadata": {
        "colab": {
          "base_uri": "https://localhost:8080/"
        },
        "id": "hmClTATD4a41",
        "outputId": "e23caa8d-025d-47c8-b574-ba20ef0069df"
      },
      "source": [
        "all_features.dtypes[all_features.dtypes=='object']"
      ],
      "execution_count": 14,
      "outputs": [
        {
          "output_type": "execute_result",
          "data": {
            "text/plain": [
              "Type                   object\n",
              "Heating                object\n",
              "Cooling                object\n",
              "Parking                object\n",
              "Bedrooms               object\n",
              "Region                 object\n",
              "Elementary School      object\n",
              "Middle School          object\n",
              "High School            object\n",
              "Flooring               object\n",
              "Heating features       object\n",
              "Cooling features       object\n",
              "Appliances included    object\n",
              "Laundry features       object\n",
              "Parking features       object\n",
              "City                   object\n",
              "dtype: object"
            ]
          },
          "metadata": {},
          "execution_count": 14
        }
      ]
    },
    {
      "cell_type": "code",
      "metadata": {
        "colab": {
          "base_uri": "https://localhost:8080/"
        },
        "id": "2ZKDijx08749",
        "outputId": "00e93761-3eea-41d0-cf81-f6aed304123c"
      },
      "source": [
        "print(len(all_features['Type'].unique()))\n",
        "print(len(all_features['Heating'].unique()))\n",
        "print(len(all_features['Cooling'].unique()))\n",
        "print(len(all_features['Parking'].unique()))\n",
        "print(len(all_features['Bedrooms'].unique()))\n",
        "print(len(all_features['Region'].unique()))\n",
        "print(len(all_features['Elementary School'].unique()))\n",
        "print(len(all_features['Middle School'].unique()))\n",
        "print(len(all_features['High School'].unique()))\n",
        "print(len(all_features['Flooring'].unique()))\n",
        "print(len(all_features['Heating features'].unique()))\n",
        "print(len(all_features['Cooling features'].unique()))\n",
        "print(len(all_features['Appliances included'].unique()))\n",
        "print(len(all_features['Laundry features'].unique()))\n",
        "print(len(all_features['Parking features'].unique()))\n",
        "print(len(all_features['City'].unique()))"
      ],
      "execution_count": 15,
      "outputs": [
        {
          "output_type": "stream",
          "name": "stdout",
          "text": [
            "174\n",
            "2660\n",
            "911\n",
            "9913\n",
            "278\n",
            "1259\n",
            "3568\n",
            "809\n",
            "922\n",
            "1740\n",
            "1763\n",
            "596\n",
            "11290\n",
            "3031\n",
            "9695\n",
            "1122\n"
          ]
        }
      ]
    },
    {
      "cell_type": "code",
      "metadata": {
        "colab": {
          "base_uri": "https://localhost:8080/"
        },
        "id": "6rDtJ4PU8_QU",
        "outputId": "4cb792bb-62d7-48ab-82e9-71f31bd6faf5"
      },
      "source": [
        "features = list(numeric_features)\n",
        "features.append('Type')   # 加上类别数相对较少的Type\n",
        "print(features)\n",
        "print(len(features))"
      ],
      "execution_count": 16,
      "outputs": [
        {
          "output_type": "stream",
          "name": "stdout",
          "text": [
            "['Year built', 'Lot', 'Bathrooms', 'Full bathrooms', 'Total interior livable area', 'Total spaces', 'Garage spaces', 'Elementary School Score', 'Elementary School Distance', 'Middle School Score', 'Middle School Distance', 'High School Score', 'High School Distance', 'Tax assessed value', 'Annual tax amount', 'Listed Price', 'Last Sold Price', 'Type']\n",
            "18\n"
          ]
        }
      ]
    },
    {
      "cell_type": "code",
      "metadata": {
        "colab": {
          "base_uri": "https://localhost:8080/"
        },
        "id": "XkcXDfVh-3-e",
        "outputId": "2ccd4ecf-8b3a-4fce-bf7d-2ba02363c175"
      },
      "source": [
        "all_features = all_features[features]\n",
        "all_features.shape"
      ],
      "execution_count": 17,
      "outputs": [
        {
          "output_type": "execute_result",
          "data": {
            "text/plain": [
              "(79065, 18)"
            ]
          },
          "metadata": {},
          "execution_count": 17
        }
      ]
    },
    {
      "cell_type": "code",
      "metadata": {
        "colab": {
          "base_uri": "https://localhost:8080/"
        },
        "id": "V5HdL-kLAD__",
        "outputId": "cd74f22c-51ff-46b0-b3f4-f9054e335a3a"
      },
      "source": [
        "all_features = pd.get_dummies(all_features)\n",
        "all_features.shape"
      ],
      "execution_count": 18,
      "outputs": [
        {
          "output_type": "execute_result",
          "data": {
            "text/plain": [
              "(79065, 191)"
            ]
          },
          "metadata": {},
          "execution_count": 18
        }
      ]
    },
    {
      "cell_type": "code",
      "metadata": {
        "colab": {
          "base_uri": "https://localhost:8080/"
        },
        "id": "tZnlXWVFAIV1",
        "outputId": "329ad18c-cabf-4182-cfda-134f5894eb5a"
      },
      "source": [
        "# 转为tensor\n",
        "n_train = train_data.shape[0]\n",
        "train_features = torch.tensor(all_features[:n_train].values, dtype=torch.float32)\n",
        "print(train_features.shape)\n",
        "test_features = torch.tensor(all_features[n_train:].values, dtype=torch.float32)\n",
        "print(test_features.shape)\n",
        "train_labels = torch.tensor(train_data['Sold Price'].values.reshape(-1,1), dtype=torch.float32)\n",
        "print(train_labels.shape)"
      ],
      "execution_count": 70,
      "outputs": [
        {
          "output_type": "stream",
          "name": "stdout",
          "text": [
            "torch.Size([47439, 191])\n",
            "torch.Size([31626, 191])\n",
            "torch.Size([47439, 1])\n"
          ]
        }
      ]
    },
    {
      "cell_type": "markdown",
      "metadata": {
        "id": "Dqg6pieKs_UU"
      },
      "source": [
        "## MLP"
      ]
    },
    {
      "cell_type": "code",
      "metadata": {
        "id": "kHMjpKtDAqKn"
      },
      "source": [
        "from torch import nn\n",
        "import torch.nn.functional as F\n",
        "\n",
        "INPUT_DIM = train_features.shape[1]  \n",
        "HIDDEN_DIM = 256\n",
        "NUM_CLASSES = 1\n",
        "\n",
        "LEARNING_RATE = 1e-2\n",
        "NUM_EPOCHS = 100\n",
        "BATCH_SIZE = 64\n",
        "WEIGHT_DECAY = 0.1\n",
        "K = 5\n",
        "\n"
      ],
      "execution_count": 71,
      "outputs": []
    },
    {
      "cell_type": "code",
      "metadata": {
        "colab": {
          "base_uri": "https://localhost:8080/"
        },
        "id": "7bVx4ji4wqd9",
        "outputId": "60ba7f41-a0ab-4fd0-ace8-89a6b506100d"
      },
      "source": [
        "class MLP(nn.Module):\n",
        "    def __init__(self, input_dim, hidden_dim, num_classes):\n",
        "        super(MLP, self).__init__()\n",
        "        self.fc1 = nn.Linear(input_dim, hidden_dim)\n",
        "        self.fc2 = nn.Linear(hidden_dim, num_classes)\n",
        "        \n",
        "    def forward(self, x_in):\n",
        "        z = F.relu(self.fc1(x_in)) \n",
        "        y_pred = self.fc2(z)\n",
        "        return y_pred\n",
        "\n",
        "model = MLP(input_dim=INPUT_DIM, hidden_dim=HIDDEN_DIM, num_classes=NUM_CLASSES)\n",
        "print (model.named_parameters)"
      ],
      "execution_count": 72,
      "outputs": [
        {
          "output_type": "stream",
          "name": "stdout",
          "text": [
            "<bound method Module.named_parameters of MLP(\n",
            "  (fc1): Linear(in_features=191, out_features=256, bias=True)\n",
            "  (fc2): Linear(in_features=256, out_features=1, bias=True)\n",
            ")>\n"
          ]
        }
      ]
    },
    {
      "cell_type": "code",
      "metadata": {
        "colab": {
          "base_uri": "https://localhost:8080/"
        },
        "id": "uqhxLoLzDcyP",
        "outputId": "f282cde1-77e2-42ec-fd25-3226039948d8"
      },
      "source": [
        "##to gpu\n",
        "device = torch.device('cuda' if torch.cuda.is_available else 'cpu')\n",
        "train_features = train_features.to(device)\n",
        "train_labels = train_labels.to(device)\n",
        "test_features = test_features.to(device)\n",
        "model.to(device)\n",
        "\n",
        "\n"
      ],
      "execution_count": 73,
      "outputs": [
        {
          "output_type": "execute_result",
          "data": {
            "text/plain": [
              "MLP(\n",
              "  (fc1): Linear(in_features=191, out_features=256, bias=True)\n",
              "  (fc2): Linear(in_features=256, out_features=1, bias=True)\n",
              ")"
            ]
          },
          "metadata": {},
          "execution_count": 73
        }
      ]
    },
    {
      "cell_type": "code",
      "metadata": {
        "id": "rYUuCPYgw1EO"
      },
      "source": [
        "from d2l import torch as d2l\n",
        "from torch.optim import Adam\n",
        "\n",
        "\n",
        "\n",
        "def train(model,train_X,train_Y,test_X,test_Y,\n",
        "          num_epochs,batch_size):\n",
        "  loss_fn = nn.MSELoss()\n",
        "\n",
        "  def log_rmse(model, features, labels):\n",
        "    # 为了在取对数时进一步稳定该值，将小于1的值设置为1\n",
        "    clipped_preds = torch.clamp(model(features), 1, float('inf'))\n",
        "    rmse = torch.sqrt(loss_fn(torch.log(clipped_preds), torch.log(labels)))\n",
        "    return rmse.item()\n",
        "   \n",
        "  optimizer = Adam(model.parameters(), lr=LEARNING_RATE, \n",
        "                   weight_decay=WEIGHT_DECAY)\n",
        "  \n",
        "  train_ls, test_ls = [], []\n",
        "  train_iter = d2l.load_array((train_X, train_Y), batch_size)\n",
        "\n",
        "  for epoch in range(num_epochs):\n",
        "    for X, y in train_iter:\n",
        "      # Forward pass\n",
        "      X_pred = model(X)\n",
        "\n",
        "      # Loss\n",
        "      loss = loss_fn(X_pred,y)\n",
        "\n",
        "      # Zero all gradients\n",
        "      optimizer.zero_grad()\n",
        "\n",
        "      # Backward pass\n",
        "      loss.backward()\n",
        "\n",
        "      # Update weights\n",
        "      optimizer.step()\n",
        "\n",
        "    train_ls.append(log_rmse(model, train_X, train_Y))\n",
        "    if test_Y is not None:\n",
        "        test_ls.append(log_rmse(model, test_X, test_Y))\n",
        "    # if epoch%1==0: \n",
        "    #   log_ls = log_rmse(model, train_X, train_Y)\n",
        "    #   train_ls.append(log_ls)\n",
        "    #   print (f\"Epoch: {epoch} | log_ls: {log_ls:.2f}\")\n",
        "  \n",
        "  return train_ls, test_ls\n",
        "  "
      ],
      "execution_count": 74,
      "outputs": []
    },
    {
      "cell_type": "code",
      "metadata": {
        "id": "4kGruh3Izl69"
      },
      "source": [
        "def get_k_fold_data(k, i, X, y):\n",
        "    assert k > 1\n",
        "    fold_size = X.shape[0] // k\n",
        "    X_train, y_train = None, None\n",
        "    for j in range(k):\n",
        "        idx = slice(j * fold_size, (j + 1) * fold_size)\n",
        "        X_part, y_part = X[idx, :], y[idx]\n",
        "        if j == i:\n",
        "            X_valid, y_valid = X_part, y_part\n",
        "        elif X_train is None:\n",
        "            X_train, y_train = X_part, y_part\n",
        "        else:\n",
        "            X_train = torch.cat([X_train, X_part], 0)\n",
        "            y_train = torch.cat([y_train, y_part], 0)\n",
        "    return X_train, y_train, X_valid, y_valid\n",
        "\n",
        "# 返回训练和验证误差的平均值\n",
        "def k_fold(k, num_epochs, batch_size):\n",
        "    train_l_sum, valid_l_sum = 0, 0\n",
        "    for i in range(k):\n",
        "        data = get_k_fold_data(k, i, train_features, train_labels)\n",
        "        train_ls, valid_ls = train(model, *data, num_epochs, batch_size)\n",
        "        train_l_sum += train_ls[-1]\n",
        "        valid_l_sum += valid_ls[-1]\n",
        "        if i == 0:\n",
        "            d2l.plot(list(range(1, num_epochs + 1)), [train_ls, valid_ls],\n",
        "                     xlabel='epoch', ylabel='rmse', xlim=[1, num_epochs],\n",
        "                     legend=['train', 'valid'], yscale='log')\n",
        "        print(f'fold {i + 1}, train log rmse {float(train_ls[-1]):f}, '\n",
        "              f'valid log rmse {float(valid_ls[-1]):f}')\n",
        "    return train_l_sum / k, valid_l_sum / k"
      ],
      "execution_count": 75,
      "outputs": []
    },
    {
      "cell_type": "code",
      "metadata": {
        "colab": {
          "base_uri": "https://localhost:8080/",
          "height": 345
        },
        "id": "IopEsIh65fiQ",
        "outputId": "644bae12-5c03-4cae-dd39-90e93fd17b5a"
      },
      "source": [
        "\n",
        "train_l, valid_l = k_fold(k=K,num_epochs=NUM_EPOCHS,batch_size=BATCH_SIZE)\n",
        "\n"
      ],
      "execution_count": 76,
      "outputs": [
        {
          "output_type": "stream",
          "name": "stdout",
          "text": [
            "fold 1, train log rmse 0.458570, valid log rmse 0.458411\n",
            "fold 2, train log rmse 0.447996, valid log rmse 0.432670\n",
            "fold 3, train log rmse 0.446093, valid log rmse 0.423432\n",
            "fold 4, train log rmse 0.337088, valid log rmse 0.349671\n",
            "fold 5, train log rmse 0.364555, valid log rmse 0.430933\n"
          ]
        },
        {
          "output_type": "display_data",
          "data": {
            "text/plain": [
              "<Figure size 252x180 with 1 Axes>"
            ],
            "image/svg+xml": "<?xml version=\"1.0\" encoding=\"utf-8\" standalone=\"no\"?>\n<!DOCTYPE svg PUBLIC \"-//W3C//DTD SVG 1.1//EN\"\n  \"http://www.w3.org/Graphics/SVG/1.1/DTD/svg11.dtd\">\n<!-- Created with matplotlib (https://matplotlib.org/) -->\n<svg height=\"180.65625pt\" version=\"1.1\" viewBox=\"0 0 257.521875 180.65625\" width=\"257.521875pt\" xmlns=\"http://www.w3.org/2000/svg\" xmlns:xlink=\"http://www.w3.org/1999/xlink\">\n <defs>\n  <style type=\"text/css\">\n*{stroke-linecap:butt;stroke-linejoin:round;}\n  </style>\n </defs>\n <g id=\"figure_1\">\n  <g id=\"patch_1\">\n   <path d=\"M 0 180.65625 \nL 257.521875 180.65625 \nL 257.521875 0 \nL 0 0 \nz\n\" style=\"fill:none;\"/>\n  </g>\n  <g id=\"axes_1\">\n   <g id=\"patch_2\">\n    <path d=\"M 45.478125 143.1 \nL 240.778125 143.1 \nL 240.778125 7.2 \nL 45.478125 7.2 \nz\n\" style=\"fill:#ffffff;\"/>\n   </g>\n   <g id=\"matplotlib.axis_1\">\n    <g id=\"xtick_1\">\n     <g id=\"line2d_1\">\n      <path clip-path=\"url(#p42b5bb796d)\" d=\"M 82.959943 143.1 \nL 82.959943 7.2 \n\" style=\"fill:none;stroke:#b0b0b0;stroke-linecap:square;stroke-width:0.8;\"/>\n     </g>\n     <g id=\"line2d_2\">\n      <defs>\n       <path d=\"M 0 0 \nL 0 3.5 \n\" id=\"m0b36776d65\" style=\"stroke:#000000;stroke-width:0.8;\"/>\n      </defs>\n      <g>\n       <use style=\"stroke:#000000;stroke-width:0.8;\" x=\"82.959943\" xlink:href=\"#m0b36776d65\" y=\"143.1\"/>\n      </g>\n     </g>\n     <g id=\"text_1\">\n      <!-- 20 -->\n      <defs>\n       <path d=\"M 19.1875 8.296875 \nL 53.609375 8.296875 \nL 53.609375 0 \nL 7.328125 0 \nL 7.328125 8.296875 \nQ 12.9375 14.109375 22.625 23.890625 \nQ 32.328125 33.6875 34.8125 36.53125 \nQ 39.546875 41.84375 41.421875 45.53125 \nQ 43.3125 49.21875 43.3125 52.78125 \nQ 43.3125 58.59375 39.234375 62.25 \nQ 35.15625 65.921875 28.609375 65.921875 \nQ 23.96875 65.921875 18.8125 64.3125 \nQ 13.671875 62.703125 7.8125 59.421875 \nL 7.8125 69.390625 \nQ 13.765625 71.78125 18.9375 73 \nQ 24.125 74.21875 28.421875 74.21875 \nQ 39.75 74.21875 46.484375 68.546875 \nQ 53.21875 62.890625 53.21875 53.421875 \nQ 53.21875 48.921875 51.53125 44.890625 \nQ 49.859375 40.875 45.40625 35.40625 \nQ 44.1875 33.984375 37.640625 27.21875 \nQ 31.109375 20.453125 19.1875 8.296875 \nz\n\" id=\"DejaVuSans-50\"/>\n       <path d=\"M 31.78125 66.40625 \nQ 24.171875 66.40625 20.328125 58.90625 \nQ 16.5 51.421875 16.5 36.375 \nQ 16.5 21.390625 20.328125 13.890625 \nQ 24.171875 6.390625 31.78125 6.390625 \nQ 39.453125 6.390625 43.28125 13.890625 \nQ 47.125 21.390625 47.125 36.375 \nQ 47.125 51.421875 43.28125 58.90625 \nQ 39.453125 66.40625 31.78125 66.40625 \nz\nM 31.78125 74.21875 \nQ 44.046875 74.21875 50.515625 64.515625 \nQ 56.984375 54.828125 56.984375 36.375 \nQ 56.984375 17.96875 50.515625 8.265625 \nQ 44.046875 -1.421875 31.78125 -1.421875 \nQ 19.53125 -1.421875 13.0625 8.265625 \nQ 6.59375 17.96875 6.59375 36.375 \nQ 6.59375 54.828125 13.0625 64.515625 \nQ 19.53125 74.21875 31.78125 74.21875 \nz\n\" id=\"DejaVuSans-48\"/>\n      </defs>\n      <g transform=\"translate(76.597443 157.698438)scale(0.1 -0.1)\">\n       <use xlink:href=\"#DejaVuSans-50\"/>\n       <use x=\"63.623047\" xlink:href=\"#DejaVuSans-48\"/>\n      </g>\n     </g>\n    </g>\n    <g id=\"xtick_2\">\n     <g id=\"line2d_3\">\n      <path clip-path=\"url(#p42b5bb796d)\" d=\"M 122.414489 143.1 \nL 122.414489 7.2 \n\" style=\"fill:none;stroke:#b0b0b0;stroke-linecap:square;stroke-width:0.8;\"/>\n     </g>\n     <g id=\"line2d_4\">\n      <g>\n       <use style=\"stroke:#000000;stroke-width:0.8;\" x=\"122.414489\" xlink:href=\"#m0b36776d65\" y=\"143.1\"/>\n      </g>\n     </g>\n     <g id=\"text_2\">\n      <!-- 40 -->\n      <defs>\n       <path d=\"M 37.796875 64.3125 \nL 12.890625 25.390625 \nL 37.796875 25.390625 \nz\nM 35.203125 72.90625 \nL 47.609375 72.90625 \nL 47.609375 25.390625 \nL 58.015625 25.390625 \nL 58.015625 17.1875 \nL 47.609375 17.1875 \nL 47.609375 0 \nL 37.796875 0 \nL 37.796875 17.1875 \nL 4.890625 17.1875 \nL 4.890625 26.703125 \nz\n\" id=\"DejaVuSans-52\"/>\n      </defs>\n      <g transform=\"translate(116.051989 157.698438)scale(0.1 -0.1)\">\n       <use xlink:href=\"#DejaVuSans-52\"/>\n       <use x=\"63.623047\" xlink:href=\"#DejaVuSans-48\"/>\n      </g>\n     </g>\n    </g>\n    <g id=\"xtick_3\">\n     <g id=\"line2d_5\">\n      <path clip-path=\"url(#p42b5bb796d)\" d=\"M 161.869034 143.1 \nL 161.869034 7.2 \n\" style=\"fill:none;stroke:#b0b0b0;stroke-linecap:square;stroke-width:0.8;\"/>\n     </g>\n     <g id=\"line2d_6\">\n      <g>\n       <use style=\"stroke:#000000;stroke-width:0.8;\" x=\"161.869034\" xlink:href=\"#m0b36776d65\" y=\"143.1\"/>\n      </g>\n     </g>\n     <g id=\"text_3\">\n      <!-- 60 -->\n      <defs>\n       <path d=\"M 33.015625 40.375 \nQ 26.375 40.375 22.484375 35.828125 \nQ 18.609375 31.296875 18.609375 23.390625 \nQ 18.609375 15.53125 22.484375 10.953125 \nQ 26.375 6.390625 33.015625 6.390625 \nQ 39.65625 6.390625 43.53125 10.953125 \nQ 47.40625 15.53125 47.40625 23.390625 \nQ 47.40625 31.296875 43.53125 35.828125 \nQ 39.65625 40.375 33.015625 40.375 \nz\nM 52.59375 71.296875 \nL 52.59375 62.3125 \nQ 48.875 64.0625 45.09375 64.984375 \nQ 41.3125 65.921875 37.59375 65.921875 \nQ 27.828125 65.921875 22.671875 59.328125 \nQ 17.53125 52.734375 16.796875 39.40625 \nQ 19.671875 43.65625 24.015625 45.921875 \nQ 28.375 48.1875 33.59375 48.1875 \nQ 44.578125 48.1875 50.953125 41.515625 \nQ 57.328125 34.859375 57.328125 23.390625 \nQ 57.328125 12.15625 50.6875 5.359375 \nQ 44.046875 -1.421875 33.015625 -1.421875 \nQ 20.359375 -1.421875 13.671875 8.265625 \nQ 6.984375 17.96875 6.984375 36.375 \nQ 6.984375 53.65625 15.1875 63.9375 \nQ 23.390625 74.21875 37.203125 74.21875 \nQ 40.921875 74.21875 44.703125 73.484375 \nQ 48.484375 72.75 52.59375 71.296875 \nz\n\" id=\"DejaVuSans-54\"/>\n      </defs>\n      <g transform=\"translate(155.506534 157.698438)scale(0.1 -0.1)\">\n       <use xlink:href=\"#DejaVuSans-54\"/>\n       <use x=\"63.623047\" xlink:href=\"#DejaVuSans-48\"/>\n      </g>\n     </g>\n    </g>\n    <g id=\"xtick_4\">\n     <g id=\"line2d_7\">\n      <path clip-path=\"url(#p42b5bb796d)\" d=\"M 201.32358 143.1 \nL 201.32358 7.2 \n\" style=\"fill:none;stroke:#b0b0b0;stroke-linecap:square;stroke-width:0.8;\"/>\n     </g>\n     <g id=\"line2d_8\">\n      <g>\n       <use style=\"stroke:#000000;stroke-width:0.8;\" x=\"201.32358\" xlink:href=\"#m0b36776d65\" y=\"143.1\"/>\n      </g>\n     </g>\n     <g id=\"text_4\">\n      <!-- 80 -->\n      <defs>\n       <path d=\"M 31.78125 34.625 \nQ 24.75 34.625 20.71875 30.859375 \nQ 16.703125 27.09375 16.703125 20.515625 \nQ 16.703125 13.921875 20.71875 10.15625 \nQ 24.75 6.390625 31.78125 6.390625 \nQ 38.8125 6.390625 42.859375 10.171875 \nQ 46.921875 13.96875 46.921875 20.515625 \nQ 46.921875 27.09375 42.890625 30.859375 \nQ 38.875 34.625 31.78125 34.625 \nz\nM 21.921875 38.8125 \nQ 15.578125 40.375 12.03125 44.71875 \nQ 8.5 49.078125 8.5 55.328125 \nQ 8.5 64.0625 14.71875 69.140625 \nQ 20.953125 74.21875 31.78125 74.21875 \nQ 42.671875 74.21875 48.875 69.140625 \nQ 55.078125 64.0625 55.078125 55.328125 \nQ 55.078125 49.078125 51.53125 44.71875 \nQ 48 40.375 41.703125 38.8125 \nQ 48.828125 37.15625 52.796875 32.3125 \nQ 56.78125 27.484375 56.78125 20.515625 \nQ 56.78125 9.90625 50.3125 4.234375 \nQ 43.84375 -1.421875 31.78125 -1.421875 \nQ 19.734375 -1.421875 13.25 4.234375 \nQ 6.78125 9.90625 6.78125 20.515625 \nQ 6.78125 27.484375 10.78125 32.3125 \nQ 14.796875 37.15625 21.921875 38.8125 \nz\nM 18.3125 54.390625 \nQ 18.3125 48.734375 21.84375 45.5625 \nQ 25.390625 42.390625 31.78125 42.390625 \nQ 38.140625 42.390625 41.71875 45.5625 \nQ 45.3125 48.734375 45.3125 54.390625 \nQ 45.3125 60.0625 41.71875 63.234375 \nQ 38.140625 66.40625 31.78125 66.40625 \nQ 25.390625 66.40625 21.84375 63.234375 \nQ 18.3125 60.0625 18.3125 54.390625 \nz\n\" id=\"DejaVuSans-56\"/>\n      </defs>\n      <g transform=\"translate(194.96108 157.698438)scale(0.1 -0.1)\">\n       <use xlink:href=\"#DejaVuSans-56\"/>\n       <use x=\"63.623047\" xlink:href=\"#DejaVuSans-48\"/>\n      </g>\n     </g>\n    </g>\n    <g id=\"xtick_5\">\n     <g id=\"line2d_9\">\n      <path clip-path=\"url(#p42b5bb796d)\" d=\"M 240.778125 143.1 \nL 240.778125 7.2 \n\" style=\"fill:none;stroke:#b0b0b0;stroke-linecap:square;stroke-width:0.8;\"/>\n     </g>\n     <g id=\"line2d_10\">\n      <g>\n       <use style=\"stroke:#000000;stroke-width:0.8;\" x=\"240.778125\" xlink:href=\"#m0b36776d65\" y=\"143.1\"/>\n      </g>\n     </g>\n     <g id=\"text_5\">\n      <!-- 100 -->\n      <defs>\n       <path d=\"M 12.40625 8.296875 \nL 28.515625 8.296875 \nL 28.515625 63.921875 \nL 10.984375 60.40625 \nL 10.984375 69.390625 \nL 28.421875 72.90625 \nL 38.28125 72.90625 \nL 38.28125 8.296875 \nL 54.390625 8.296875 \nL 54.390625 0 \nL 12.40625 0 \nz\n\" id=\"DejaVuSans-49\"/>\n      </defs>\n      <g transform=\"translate(231.234375 157.698438)scale(0.1 -0.1)\">\n       <use xlink:href=\"#DejaVuSans-49\"/>\n       <use x=\"63.623047\" xlink:href=\"#DejaVuSans-48\"/>\n       <use x=\"127.246094\" xlink:href=\"#DejaVuSans-48\"/>\n      </g>\n     </g>\n    </g>\n    <g id=\"text_6\">\n     <!-- epoch -->\n     <defs>\n      <path d=\"M 56.203125 29.59375 \nL 56.203125 25.203125 \nL 14.890625 25.203125 \nQ 15.484375 15.921875 20.484375 11.0625 \nQ 25.484375 6.203125 34.421875 6.203125 \nQ 39.59375 6.203125 44.453125 7.46875 \nQ 49.3125 8.734375 54.109375 11.28125 \nL 54.109375 2.78125 \nQ 49.265625 0.734375 44.1875 -0.34375 \nQ 39.109375 -1.421875 33.890625 -1.421875 \nQ 20.796875 -1.421875 13.15625 6.1875 \nQ 5.515625 13.8125 5.515625 26.8125 \nQ 5.515625 40.234375 12.765625 48.109375 \nQ 20.015625 56 32.328125 56 \nQ 43.359375 56 49.78125 48.890625 \nQ 56.203125 41.796875 56.203125 29.59375 \nz\nM 47.21875 32.234375 \nQ 47.125 39.59375 43.09375 43.984375 \nQ 39.0625 48.390625 32.421875 48.390625 \nQ 24.90625 48.390625 20.390625 44.140625 \nQ 15.875 39.890625 15.1875 32.171875 \nz\n\" id=\"DejaVuSans-101\"/>\n      <path d=\"M 18.109375 8.203125 \nL 18.109375 -20.796875 \nL 9.078125 -20.796875 \nL 9.078125 54.6875 \nL 18.109375 54.6875 \nL 18.109375 46.390625 \nQ 20.953125 51.265625 25.265625 53.625 \nQ 29.59375 56 35.59375 56 \nQ 45.5625 56 51.78125 48.09375 \nQ 58.015625 40.1875 58.015625 27.296875 \nQ 58.015625 14.40625 51.78125 6.484375 \nQ 45.5625 -1.421875 35.59375 -1.421875 \nQ 29.59375 -1.421875 25.265625 0.953125 \nQ 20.953125 3.328125 18.109375 8.203125 \nz\nM 48.6875 27.296875 \nQ 48.6875 37.203125 44.609375 42.84375 \nQ 40.53125 48.484375 33.40625 48.484375 \nQ 26.265625 48.484375 22.1875 42.84375 \nQ 18.109375 37.203125 18.109375 27.296875 \nQ 18.109375 17.390625 22.1875 11.75 \nQ 26.265625 6.109375 33.40625 6.109375 \nQ 40.53125 6.109375 44.609375 11.75 \nQ 48.6875 17.390625 48.6875 27.296875 \nz\n\" id=\"DejaVuSans-112\"/>\n      <path d=\"M 30.609375 48.390625 \nQ 23.390625 48.390625 19.1875 42.75 \nQ 14.984375 37.109375 14.984375 27.296875 \nQ 14.984375 17.484375 19.15625 11.84375 \nQ 23.34375 6.203125 30.609375 6.203125 \nQ 37.796875 6.203125 41.984375 11.859375 \nQ 46.1875 17.53125 46.1875 27.296875 \nQ 46.1875 37.015625 41.984375 42.703125 \nQ 37.796875 48.390625 30.609375 48.390625 \nz\nM 30.609375 56 \nQ 42.328125 56 49.015625 48.375 \nQ 55.71875 40.765625 55.71875 27.296875 \nQ 55.71875 13.875 49.015625 6.21875 \nQ 42.328125 -1.421875 30.609375 -1.421875 \nQ 18.84375 -1.421875 12.171875 6.21875 \nQ 5.515625 13.875 5.515625 27.296875 \nQ 5.515625 40.765625 12.171875 48.375 \nQ 18.84375 56 30.609375 56 \nz\n\" id=\"DejaVuSans-111\"/>\n      <path d=\"M 48.78125 52.59375 \nL 48.78125 44.1875 \nQ 44.96875 46.296875 41.140625 47.34375 \nQ 37.3125 48.390625 33.40625 48.390625 \nQ 24.65625 48.390625 19.8125 42.84375 \nQ 14.984375 37.3125 14.984375 27.296875 \nQ 14.984375 17.28125 19.8125 11.734375 \nQ 24.65625 6.203125 33.40625 6.203125 \nQ 37.3125 6.203125 41.140625 7.25 \nQ 44.96875 8.296875 48.78125 10.40625 \nL 48.78125 2.09375 \nQ 45.015625 0.34375 40.984375 -0.53125 \nQ 36.96875 -1.421875 32.421875 -1.421875 \nQ 20.0625 -1.421875 12.78125 6.34375 \nQ 5.515625 14.109375 5.515625 27.296875 \nQ 5.515625 40.671875 12.859375 48.328125 \nQ 20.21875 56 33.015625 56 \nQ 37.15625 56 41.109375 55.140625 \nQ 45.0625 54.296875 48.78125 52.59375 \nz\n\" id=\"DejaVuSans-99\"/>\n      <path d=\"M 54.890625 33.015625 \nL 54.890625 0 \nL 45.90625 0 \nL 45.90625 32.71875 \nQ 45.90625 40.484375 42.875 44.328125 \nQ 39.84375 48.1875 33.796875 48.1875 \nQ 26.515625 48.1875 22.3125 43.546875 \nQ 18.109375 38.921875 18.109375 30.90625 \nL 18.109375 0 \nL 9.078125 0 \nL 9.078125 75.984375 \nL 18.109375 75.984375 \nL 18.109375 46.1875 \nQ 21.34375 51.125 25.703125 53.5625 \nQ 30.078125 56 35.796875 56 \nQ 45.21875 56 50.046875 50.171875 \nQ 54.890625 44.34375 54.890625 33.015625 \nz\n\" id=\"DejaVuSans-104\"/>\n     </defs>\n     <g transform=\"translate(127.9 171.376563)scale(0.1 -0.1)\">\n      <use xlink:href=\"#DejaVuSans-101\"/>\n      <use x=\"61.523438\" xlink:href=\"#DejaVuSans-112\"/>\n      <use x=\"125\" xlink:href=\"#DejaVuSans-111\"/>\n      <use x=\"186.181641\" xlink:href=\"#DejaVuSans-99\"/>\n      <use x=\"241.162109\" xlink:href=\"#DejaVuSans-104\"/>\n     </g>\n    </g>\n   </g>\n   <g id=\"matplotlib.axis_2\">\n    <g id=\"ytick_1\">\n     <g id=\"line2d_11\">\n      <path clip-path=\"url(#p42b5bb796d)\" d=\"M 45.478125 96.750123 \nL 240.778125 96.750123 \n\" style=\"fill:none;stroke:#b0b0b0;stroke-linecap:square;stroke-width:0.8;\"/>\n     </g>\n     <g id=\"line2d_12\">\n      <defs>\n       <path d=\"M 0 0 \nL -3.5 0 \n\" id=\"m1db8b3f2ae\" style=\"stroke:#000000;stroke-width:0.8;\"/>\n      </defs>\n      <g>\n       <use style=\"stroke:#000000;stroke-width:0.8;\" x=\"45.478125\" xlink:href=\"#m1db8b3f2ae\" y=\"96.750123\"/>\n      </g>\n     </g>\n     <g id=\"text_7\">\n      <!-- $\\mathdefault{10^{0}}$ -->\n      <g transform=\"translate(20.878125 100.549342)scale(0.1 -0.1)\">\n       <use transform=\"translate(0 0.765625)\" xlink:href=\"#DejaVuSans-49\"/>\n       <use transform=\"translate(63.623047 0.765625)\" xlink:href=\"#DejaVuSans-48\"/>\n       <use transform=\"translate(128.203125 39.046875)scale(0.7)\" xlink:href=\"#DejaVuSans-48\"/>\n      </g>\n     </g>\n    </g>\n    <g id=\"ytick_2\">\n     <g id=\"line2d_13\">\n      <defs>\n       <path d=\"M 0 0 \nL -2 0 \n\" id=\"m80f2566263\" style=\"stroke:#000000;stroke-width:0.6;\"/>\n      </defs>\n      <g>\n       <use style=\"stroke:#000000;stroke-width:0.6;\" x=\"45.478125\" xlink:href=\"#m80f2566263\" y=\"132.450031\"/>\n      </g>\n     </g>\n    </g>\n    <g id=\"ytick_3\">\n     <g id=\"line2d_14\">\n      <g>\n       <use style=\"stroke:#000000;stroke-width:0.6;\" x=\"45.478125\" xlink:href=\"#m80f2566263\" y=\"123.059727\"/>\n      </g>\n     </g>\n    </g>\n    <g id=\"ytick_4\">\n     <g id=\"line2d_15\">\n      <g>\n       <use style=\"stroke:#000000;stroke-width:0.6;\" x=\"45.478125\" xlink:href=\"#m80f2566263\" y=\"115.120338\"/>\n      </g>\n     </g>\n    </g>\n    <g id=\"ytick_5\">\n     <g id=\"line2d_16\">\n      <g>\n       <use style=\"stroke:#000000;stroke-width:0.6;\" x=\"45.478125\" xlink:href=\"#m80f2566263\" y=\"108.242926\"/>\n      </g>\n     </g>\n    </g>\n    <g id=\"ytick_6\">\n     <g id=\"line2d_17\">\n      <g>\n       <use style=\"stroke:#000000;stroke-width:0.6;\" x=\"45.478125\" xlink:href=\"#m80f2566263\" y=\"102.17662\"/>\n      </g>\n     </g>\n    </g>\n    <g id=\"ytick_7\">\n     <g id=\"line2d_18\">\n      <g>\n       <use style=\"stroke:#000000;stroke-width:0.6;\" x=\"45.478125\" xlink:href=\"#m80f2566263\" y=\"61.050215\"/>\n      </g>\n     </g>\n    </g>\n    <g id=\"ytick_8\">\n     <g id=\"line2d_19\">\n      <g>\n       <use style=\"stroke:#000000;stroke-width:0.6;\" x=\"45.478125\" xlink:href=\"#m80f2566263\" y=\"40.167108\"/>\n      </g>\n     </g>\n    </g>\n    <g id=\"ytick_9\">\n     <g id=\"line2d_20\">\n      <g>\n       <use style=\"stroke:#000000;stroke-width:0.6;\" x=\"45.478125\" xlink:href=\"#m80f2566263\" y=\"25.350308\"/>\n      </g>\n     </g>\n    </g>\n    <g id=\"ytick_10\">\n     <g id=\"line2d_21\">\n      <g>\n       <use style=\"stroke:#000000;stroke-width:0.6;\" x=\"45.478125\" xlink:href=\"#m80f2566263\" y=\"13.857504\"/>\n      </g>\n     </g>\n    </g>\n    <g id=\"text_8\">\n     <!-- rmse -->\n     <defs>\n      <path d=\"M 41.109375 46.296875 \nQ 39.59375 47.171875 37.8125 47.578125 \nQ 36.03125 48 33.890625 48 \nQ 26.265625 48 22.1875 43.046875 \nQ 18.109375 38.09375 18.109375 28.8125 \nL 18.109375 0 \nL 9.078125 0 \nL 9.078125 54.6875 \nL 18.109375 54.6875 \nL 18.109375 46.1875 \nQ 20.953125 51.171875 25.484375 53.578125 \nQ 30.03125 56 36.53125 56 \nQ 37.453125 56 38.578125 55.875 \nQ 39.703125 55.765625 41.0625 55.515625 \nz\n\" id=\"DejaVuSans-114\"/>\n      <path d=\"M 52 44.1875 \nQ 55.375 50.25 60.0625 53.125 \nQ 64.75 56 71.09375 56 \nQ 79.640625 56 84.28125 50.015625 \nQ 88.921875 44.046875 88.921875 33.015625 \nL 88.921875 0 \nL 79.890625 0 \nL 79.890625 32.71875 \nQ 79.890625 40.578125 77.09375 44.375 \nQ 74.3125 48.1875 68.609375 48.1875 \nQ 61.625 48.1875 57.5625 43.546875 \nQ 53.515625 38.921875 53.515625 30.90625 \nL 53.515625 0 \nL 44.484375 0 \nL 44.484375 32.71875 \nQ 44.484375 40.625 41.703125 44.40625 \nQ 38.921875 48.1875 33.109375 48.1875 \nQ 26.21875 48.1875 22.15625 43.53125 \nQ 18.109375 38.875 18.109375 30.90625 \nL 18.109375 0 \nL 9.078125 0 \nL 9.078125 54.6875 \nL 18.109375 54.6875 \nL 18.109375 46.1875 \nQ 21.1875 51.21875 25.484375 53.609375 \nQ 29.78125 56 35.6875 56 \nQ 41.65625 56 45.828125 52.96875 \nQ 50 49.953125 52 44.1875 \nz\n\" id=\"DejaVuSans-109\"/>\n      <path d=\"M 44.28125 53.078125 \nL 44.28125 44.578125 \nQ 40.484375 46.53125 36.375 47.5 \nQ 32.28125 48.484375 27.875 48.484375 \nQ 21.1875 48.484375 17.84375 46.4375 \nQ 14.5 44.390625 14.5 40.28125 \nQ 14.5 37.15625 16.890625 35.375 \nQ 19.28125 33.59375 26.515625 31.984375 \nL 29.59375 31.296875 \nQ 39.15625 29.25 43.1875 25.515625 \nQ 47.21875 21.78125 47.21875 15.09375 \nQ 47.21875 7.46875 41.1875 3.015625 \nQ 35.15625 -1.421875 24.609375 -1.421875 \nQ 20.21875 -1.421875 15.453125 -0.5625 \nQ 10.6875 0.296875 5.421875 2 \nL 5.421875 11.28125 \nQ 10.40625 8.6875 15.234375 7.390625 \nQ 20.0625 6.109375 24.8125 6.109375 \nQ 31.15625 6.109375 34.5625 8.28125 \nQ 37.984375 10.453125 37.984375 14.40625 \nQ 37.984375 18.0625 35.515625 20.015625 \nQ 33.0625 21.96875 24.703125 23.78125 \nL 21.578125 24.515625 \nQ 13.234375 26.265625 9.515625 29.90625 \nQ 5.8125 33.546875 5.8125 39.890625 \nQ 5.8125 47.609375 11.28125 51.796875 \nQ 16.75 56 26.8125 56 \nQ 31.78125 56 36.171875 55.265625 \nQ 40.578125 54.546875 44.28125 53.078125 \nz\n\" id=\"DejaVuSans-115\"/>\n     </defs>\n     <g transform=\"translate(14.798437 87.669531)rotate(-90)scale(0.1 -0.1)\">\n      <use xlink:href=\"#DejaVuSans-114\"/>\n      <use x=\"39.363281\" xlink:href=\"#DejaVuSans-109\"/>\n      <use x=\"136.775391\" xlink:href=\"#DejaVuSans-115\"/>\n      <use x=\"188.875\" xlink:href=\"#DejaVuSans-101\"/>\n     </g>\n    </g>\n   </g>\n   <g id=\"line2d_22\">\n    <path clip-path=\"url(#p42b5bb796d)\" d=\"M 45.478125 13.377273 \nL 47.450852 16.940327 \nL 49.42358 18.355144 \nL 51.396307 20.15973 \nL 53.369034 23.296035 \nL 55.341761 28.171463 \nL 57.314489 33.490757 \nL 59.287216 38.244999 \nL 61.259943 42.235072 \nL 63.23267 45.881434 \nL 65.205398 49.467918 \nL 67.178125 53.150034 \nL 69.150852 56.972083 \nL 71.12358 61.229415 \nL 73.096307 65.798349 \nL 75.069034 71.524341 \nL 77.041761 80.045935 \nL 79.014489 90.331038 \nL 80.987216 101.516021 \nL 82.959943 109.207123 \nL 84.93267 114.0565 \nL 86.905398 117.712613 \nL 88.878125 120.008106 \nL 90.850852 121.439688 \nL 92.82358 122.601588 \nL 94.796307 123.447732 \nL 96.769034 124.274645 \nL 98.741761 124.9172 \nL 100.714489 125.306699 \nL 102.687216 125.794066 \nL 104.659943 126.168828 \nL 106.63267 126.487325 \nL 108.605398 126.837016 \nL 110.578125 127.144135 \nL 112.550852 127.401487 \nL 114.52358 127.714124 \nL 116.496307 127.89108 \nL 118.469034 128.133983 \nL 120.441761 128.342065 \nL 122.414489 128.598166 \nL 124.387216 128.770811 \nL 126.359943 128.930657 \nL 128.33267 129.123124 \nL 130.305398 129.278844 \nL 132.278125 129.43774 \nL 134.250852 129.62299 \nL 136.22358 129.836284 \nL 138.196307 129.966052 \nL 140.169034 130.121541 \nL 142.141761 130.326278 \nL 144.114489 130.327214 \nL 146.087216 130.557392 \nL 148.059943 130.669161 \nL 150.03267 130.751337 \nL 152.005398 130.811907 \nL 153.978125 130.956129 \nL 155.950852 131.049189 \nL 157.92358 131.076933 \nL 159.896307 131.135146 \nL 161.869034 131.270069 \nL 163.841761 131.376361 \nL 165.814489 131.414973 \nL 167.787216 131.578545 \nL 169.759943 131.673445 \nL 171.73267 131.720973 \nL 173.705398 131.932753 \nL 175.678125 132.034441 \nL 177.650852 132.058687 \nL 179.62358 132.127032 \nL 181.596307 132.23934 \nL 183.569034 132.33831 \nL 185.541761 132.504206 \nL 187.514489 132.595648 \nL 189.487216 132.906448 \nL 191.459943 133.147889 \nL 193.43267 133.431985 \nL 195.405398 133.921336 \nL 197.378125 134.258726 \nL 199.350852 134.458611 \nL 201.32358 134.903477 \nL 203.296307 135.217009 \nL 205.269034 135.391226 \nL 207.241761 135.512791 \nL 209.214489 135.650209 \nL 211.187216 135.712481 \nL 213.159943 135.704569 \nL 215.13267 135.722836 \nL 217.105398 135.998255 \nL 219.078125 136.089166 \nL 221.050852 136.301451 \nL 223.02358 136.271372 \nL 224.996307 136.479896 \nL 226.969034 136.552563 \nL 228.941761 136.581923 \nL 230.914489 136.588017 \nL 232.887216 136.613878 \nL 234.859943 136.707981 \nL 236.83267 136.804765 \nL 238.805398 136.866679 \nL 240.778125 136.904863 \n\" style=\"fill:none;stroke:#1f77b4;stroke-linecap:square;stroke-width:1.5;\"/>\n   </g>\n   <g id=\"line2d_23\">\n    <path clip-path=\"url(#p42b5bb796d)\" d=\"M 45.478125 17.392447 \nL 47.450852 21.090724 \nL 49.42358 21.950689 \nL 51.396307 23.787249 \nL 53.369034 27.820595 \nL 55.341761 34.304538 \nL 57.314489 42.013948 \nL 59.287216 48.823376 \nL 61.259943 54.338562 \nL 63.23267 58.983573 \nL 65.205398 63.084919 \nL 67.178125 66.554197 \nL 69.150852 69.919833 \nL 71.12358 74.121777 \nL 73.096307 78.992374 \nL 75.069034 83.696965 \nL 77.041761 90.674441 \nL 79.014489 99.86461 \nL 80.987216 108.981028 \nL 82.959943 114.905427 \nL 84.93267 118.510247 \nL 86.905398 120.850139 \nL 88.878125 122.282401 \nL 90.850852 123.212124 \nL 92.82358 123.930859 \nL 94.796307 124.589618 \nL 96.769034 125.144846 \nL 98.741761 125.574105 \nL 100.714489 125.847109 \nL 102.687216 126.195819 \nL 104.659943 126.462083 \nL 106.63267 126.674394 \nL 108.605398 126.929966 \nL 110.578125 127.15302 \nL 112.550852 127.355439 \nL 114.52358 127.601534 \nL 116.496307 127.79946 \nL 118.469034 128.048491 \nL 120.441761 128.286606 \nL 122.414489 128.534043 \nL 124.387216 128.683292 \nL 126.359943 128.838418 \nL 128.33267 129.006554 \nL 130.305398 129.112564 \nL 132.278125 129.231959 \nL 134.250852 129.367648 \nL 136.22358 129.532243 \nL 138.196307 129.664888 \nL 140.169034 129.800196 \nL 142.141761 129.945743 \nL 144.114489 130.000249 \nL 146.087216 130.200284 \nL 148.059943 130.281538 \nL 150.03267 130.402508 \nL 152.005398 130.46313 \nL 153.978125 130.58229 \nL 155.950852 130.6717 \nL 157.92358 130.730062 \nL 159.896307 130.787849 \nL 161.869034 130.889855 \nL 163.841761 130.9777 \nL 165.814489 131.017089 \nL 167.787216 131.131932 \nL 169.759943 131.177142 \nL 171.73267 131.206668 \nL 173.705398 131.319466 \nL 175.678125 131.389531 \nL 177.650852 131.445461 \nL 179.62358 131.488959 \nL 181.596307 131.761402 \nL 183.569034 131.932029 \nL 185.541761 132.095985 \nL 187.514489 132.203246 \nL 189.487216 132.361155 \nL 191.459943 132.421526 \nL 193.43267 132.802521 \nL 195.405398 133.175009 \nL 197.378125 133.493672 \nL 199.350852 133.645438 \nL 201.32358 133.866294 \nL 203.296307 133.940549 \nL 205.269034 134.021882 \nL 207.241761 134.068736 \nL 209.214489 134.139534 \nL 211.187216 134.175989 \nL 213.159943 134.180894 \nL 215.13267 134.186222 \nL 217.105398 134.22693 \nL 219.078125 134.268355 \nL 221.050852 134.318194 \nL 223.02358 134.865431 \nL 224.996307 135.057322 \nL 226.969034 135.149886 \nL 228.941761 136.069458 \nL 230.914489 136.30691 \nL 232.887216 136.452419 \nL 234.859943 136.598557 \nL 236.83267 136.719026 \nL 238.805398 136.833396 \nL 240.778125 136.922727 \n\" style=\"fill:none;stroke:#bf00bf;stroke-dasharray:5.55,2.4;stroke-dashoffset:0;stroke-width:1.5;\"/>\n   </g>\n   <g id=\"patch_3\">\n    <path d=\"M 45.478125 143.1 \nL 45.478125 7.2 \n\" style=\"fill:none;stroke:#000000;stroke-linecap:square;stroke-linejoin:miter;stroke-width:0.8;\"/>\n   </g>\n   <g id=\"patch_4\">\n    <path d=\"M 240.778125 143.1 \nL 240.778125 7.2 \n\" style=\"fill:none;stroke:#000000;stroke-linecap:square;stroke-linejoin:miter;stroke-width:0.8;\"/>\n   </g>\n   <g id=\"patch_5\">\n    <path d=\"M 45.478125 143.1 \nL 240.778125 143.1 \n\" style=\"fill:none;stroke:#000000;stroke-linecap:square;stroke-linejoin:miter;stroke-width:0.8;\"/>\n   </g>\n   <g id=\"patch_6\">\n    <path d=\"M 45.478125 7.2 \nL 240.778125 7.2 \n\" style=\"fill:none;stroke:#000000;stroke-linecap:square;stroke-linejoin:miter;stroke-width:0.8;\"/>\n   </g>\n   <g id=\"legend_1\">\n    <g id=\"patch_7\">\n     <path d=\"M 177.826562 44.55625 \nL 233.778125 44.55625 \nQ 235.778125 44.55625 235.778125 42.55625 \nL 235.778125 14.2 \nQ 235.778125 12.2 233.778125 12.2 \nL 177.826562 12.2 \nQ 175.826562 12.2 175.826562 14.2 \nL 175.826562 42.55625 \nQ 175.826562 44.55625 177.826562 44.55625 \nz\n\" style=\"fill:#ffffff;opacity:0.8;stroke:#cccccc;stroke-linejoin:miter;\"/>\n    </g>\n    <g id=\"line2d_24\">\n     <path d=\"M 179.826562 20.298437 \nL 199.826562 20.298437 \n\" style=\"fill:none;stroke:#1f77b4;stroke-linecap:square;stroke-width:1.5;\"/>\n    </g>\n    <g id=\"line2d_25\"/>\n    <g id=\"text_9\">\n     <!-- train -->\n     <defs>\n      <path d=\"M 18.3125 70.21875 \nL 18.3125 54.6875 \nL 36.8125 54.6875 \nL 36.8125 47.703125 \nL 18.3125 47.703125 \nL 18.3125 18.015625 \nQ 18.3125 11.328125 20.140625 9.421875 \nQ 21.96875 7.515625 27.59375 7.515625 \nL 36.8125 7.515625 \nL 36.8125 0 \nL 27.59375 0 \nQ 17.1875 0 13.234375 3.875 \nQ 9.28125 7.765625 9.28125 18.015625 \nL 9.28125 47.703125 \nL 2.6875 47.703125 \nL 2.6875 54.6875 \nL 9.28125 54.6875 \nL 9.28125 70.21875 \nz\n\" id=\"DejaVuSans-116\"/>\n      <path d=\"M 34.28125 27.484375 \nQ 23.390625 27.484375 19.1875 25 \nQ 14.984375 22.515625 14.984375 16.5 \nQ 14.984375 11.71875 18.140625 8.90625 \nQ 21.296875 6.109375 26.703125 6.109375 \nQ 34.1875 6.109375 38.703125 11.40625 \nQ 43.21875 16.703125 43.21875 25.484375 \nL 43.21875 27.484375 \nz\nM 52.203125 31.203125 \nL 52.203125 0 \nL 43.21875 0 \nL 43.21875 8.296875 \nQ 40.140625 3.328125 35.546875 0.953125 \nQ 30.953125 -1.421875 24.3125 -1.421875 \nQ 15.921875 -1.421875 10.953125 3.296875 \nQ 6 8.015625 6 15.921875 \nQ 6 25.140625 12.171875 29.828125 \nQ 18.359375 34.515625 30.609375 34.515625 \nL 43.21875 34.515625 \nL 43.21875 35.40625 \nQ 43.21875 41.609375 39.140625 45 \nQ 35.0625 48.390625 27.6875 48.390625 \nQ 23 48.390625 18.546875 47.265625 \nQ 14.109375 46.140625 10.015625 43.890625 \nL 10.015625 52.203125 \nQ 14.9375 54.109375 19.578125 55.046875 \nQ 24.21875 56 28.609375 56 \nQ 40.484375 56 46.34375 49.84375 \nQ 52.203125 43.703125 52.203125 31.203125 \nz\n\" id=\"DejaVuSans-97\"/>\n      <path d=\"M 9.421875 54.6875 \nL 18.40625 54.6875 \nL 18.40625 0 \nL 9.421875 0 \nz\nM 9.421875 75.984375 \nL 18.40625 75.984375 \nL 18.40625 64.59375 \nL 9.421875 64.59375 \nz\n\" id=\"DejaVuSans-105\"/>\n      <path d=\"M 54.890625 33.015625 \nL 54.890625 0 \nL 45.90625 0 \nL 45.90625 32.71875 \nQ 45.90625 40.484375 42.875 44.328125 \nQ 39.84375 48.1875 33.796875 48.1875 \nQ 26.515625 48.1875 22.3125 43.546875 \nQ 18.109375 38.921875 18.109375 30.90625 \nL 18.109375 0 \nL 9.078125 0 \nL 9.078125 54.6875 \nL 18.109375 54.6875 \nL 18.109375 46.1875 \nQ 21.34375 51.125 25.703125 53.5625 \nQ 30.078125 56 35.796875 56 \nQ 45.21875 56 50.046875 50.171875 \nQ 54.890625 44.34375 54.890625 33.015625 \nz\n\" id=\"DejaVuSans-110\"/>\n     </defs>\n     <g transform=\"translate(207.826562 23.798437)scale(0.1 -0.1)\">\n      <use xlink:href=\"#DejaVuSans-116\"/>\n      <use x=\"39.208984\" xlink:href=\"#DejaVuSans-114\"/>\n      <use x=\"80.322266\" xlink:href=\"#DejaVuSans-97\"/>\n      <use x=\"141.601562\" xlink:href=\"#DejaVuSans-105\"/>\n      <use x=\"169.384766\" xlink:href=\"#DejaVuSans-110\"/>\n     </g>\n    </g>\n    <g id=\"line2d_26\">\n     <path d=\"M 179.826562 34.976562 \nL 199.826562 34.976562 \n\" style=\"fill:none;stroke:#bf00bf;stroke-dasharray:5.55,2.4;stroke-dashoffset:0;stroke-width:1.5;\"/>\n    </g>\n    <g id=\"line2d_27\"/>\n    <g id=\"text_10\">\n     <!-- valid -->\n     <defs>\n      <path d=\"M 2.984375 54.6875 \nL 12.5 54.6875 \nL 29.59375 8.796875 \nL 46.6875 54.6875 \nL 56.203125 54.6875 \nL 35.6875 0 \nL 23.484375 0 \nz\n\" id=\"DejaVuSans-118\"/>\n      <path d=\"M 9.421875 75.984375 \nL 18.40625 75.984375 \nL 18.40625 0 \nL 9.421875 0 \nz\n\" id=\"DejaVuSans-108\"/>\n      <path d=\"M 45.40625 46.390625 \nL 45.40625 75.984375 \nL 54.390625 75.984375 \nL 54.390625 0 \nL 45.40625 0 \nL 45.40625 8.203125 \nQ 42.578125 3.328125 38.25 0.953125 \nQ 33.9375 -1.421875 27.875 -1.421875 \nQ 17.96875 -1.421875 11.734375 6.484375 \nQ 5.515625 14.40625 5.515625 27.296875 \nQ 5.515625 40.1875 11.734375 48.09375 \nQ 17.96875 56 27.875 56 \nQ 33.9375 56 38.25 53.625 \nQ 42.578125 51.265625 45.40625 46.390625 \nz\nM 14.796875 27.296875 \nQ 14.796875 17.390625 18.875 11.75 \nQ 22.953125 6.109375 30.078125 6.109375 \nQ 37.203125 6.109375 41.296875 11.75 \nQ 45.40625 17.390625 45.40625 27.296875 \nQ 45.40625 37.203125 41.296875 42.84375 \nQ 37.203125 48.484375 30.078125 48.484375 \nQ 22.953125 48.484375 18.875 42.84375 \nQ 14.796875 37.203125 14.796875 27.296875 \nz\n\" id=\"DejaVuSans-100\"/>\n     </defs>\n     <g transform=\"translate(207.826562 38.476562)scale(0.1 -0.1)\">\n      <use xlink:href=\"#DejaVuSans-118\"/>\n      <use x=\"59.179688\" xlink:href=\"#DejaVuSans-97\"/>\n      <use x=\"120.458984\" xlink:href=\"#DejaVuSans-108\"/>\n      <use x=\"148.242188\" xlink:href=\"#DejaVuSans-105\"/>\n      <use x=\"176.025391\" xlink:href=\"#DejaVuSans-100\"/>\n     </g>\n    </g>\n   </g>\n  </g>\n </g>\n <defs>\n  <clipPath id=\"p42b5bb796d\">\n   <rect height=\"135.9\" width=\"195.3\" x=\"45.478125\" y=\"7.2\"/>\n  </clipPath>\n </defs>\n</svg>\n"
          },
          "metadata": {
            "needs_background": "light"
          }
        }
      ]
    },
    {
      "cell_type": "code",
      "metadata": {
        "colab": {
          "base_uri": "https://localhost:8080/",
          "height": 182
        },
        "id": "mmsIlkv75uh-",
        "outputId": "5cf7c661-8323-4bb9-971d-5ce4cc6bbfeb"
      },
      "source": [
        "print(f'{K}-折验证: 平均训练log rmse: {float(train_l):f}, '\n",
        "      f'平均验证log rmse: {float(valid_l):f}')"
      ],
      "execution_count": 2,
      "outputs": [
        {
          "output_type": "error",
          "ename": "NameError",
          "evalue": "ignored",
          "traceback": [
            "\u001b[0;31m---------------------------------------------------------------------------\u001b[0m",
            "\u001b[0;31mNameError\u001b[0m                                 Traceback (most recent call last)",
            "\u001b[0;32m<ipython-input-2-9a56d4cf2f66>\u001b[0m in \u001b[0;36m<module>\u001b[0;34m()\u001b[0m\n\u001b[0;32m----> 1\u001b[0;31m print(f'{K}-折验证: 平均训练log rmse: {float(train_l):f}, '\n\u001b[0m\u001b[1;32m      2\u001b[0m       f'平均验证log rmse: {float(valid_l):f}')\n",
            "\u001b[0;31mNameError\u001b[0m: name 'K' is not defined"
          ]
        }
      ]
    },
    {
      "cell_type": "code",
      "metadata": {
        "id": "UeevngJV_bKK"
      },
      "source": [
        ""
      ],
      "execution_count": null,
      "outputs": []
    }
  ]
}